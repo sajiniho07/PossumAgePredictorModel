{
  "nbformat": 4,
  "nbformat_minor": 0,
  "metadata": {
    "colab": {
      "provenance": [],
      "authorship_tag": "ABX9TyO42zvxEZ3ykYpYc6Ms8al3",
      "include_colab_link": true
    },
    "kernelspec": {
      "name": "python3",
      "display_name": "Python 3"
    },
    "language_info": {
      "name": "python"
    }
  },
  "cells": [
    {
      "cell_type": "markdown",
      "metadata": {
        "id": "view-in-github",
        "colab_type": "text"
      },
      "source": [
        "<a href=\"https://colab.research.google.com/github/sajiniho07/PossumAgePredictorModel/blob/main/possum_age_predictor_model.ipynb\" target=\"_parent\"><img src=\"https://colab.research.google.com/assets/colab-badge.svg\" alt=\"Open In Colab\"/></a>"
      ]
    },
    {
      "cell_type": "code",
      "execution_count": null,
      "metadata": {
        "id": "5x4glzCY7NtO"
      },
      "outputs": [],
      "source": [
        "import pandas as pd\n",
        "import numpy as np"
      ]
    },
    {
      "cell_type": "code",
      "source": [
        "# step 1: read data"
      ],
      "metadata": {
        "id": "ayfCHks1x6JI"
      },
      "execution_count": null,
      "outputs": []
    },
    {
      "cell_type": "code",
      "source": [
        "df = pd.read_csv(\"/content/sample_data/possum.csv\")"
      ],
      "metadata": {
        "id": "IoQ4zbmjQGxC"
      },
      "execution_count": null,
      "outputs": []
    },
    {
      "cell_type": "code",
      "source": [
        "df.head()"
      ],
      "metadata": {
        "colab": {
          "base_uri": "https://localhost:8080/",
          "height": 206
        },
        "id": "20HSFg1bQy0Y",
        "outputId": "89655e6f-0eef-4417-85c2-e351f116b51b"
      },
      "execution_count": null,
      "outputs": [
        {
          "output_type": "execute_result",
          "data": {
            "text/plain": [
              "   case  site  Pop sex  age  hdlngth  skullw  totlngth  taill  footlgth  \\\n",
              "0     1     1  Vic   m  8.0     94.1    60.4      89.0   36.0      74.5   \n",
              "1     2     1  Vic   f  6.0     92.5    57.6      91.5   36.5      72.5   \n",
              "2     3     1  Vic   f  6.0     94.0    60.0      95.5   39.0      75.4   \n",
              "3     4     1  Vic   f  6.0     93.2    57.1      92.0   38.0      76.1   \n",
              "4     5     1  Vic   f  2.0     91.5    56.3      85.5   36.0      71.0   \n",
              "\n",
              "   earconch   eye  chest  belly  \n",
              "0      54.5  15.2   28.0   36.0  \n",
              "1      51.2  16.0   28.5   33.0  \n",
              "2      51.9  15.5   30.0   34.0  \n",
              "3      52.2  15.2   28.0   34.0  \n",
              "4      53.2  15.1   28.5   33.0  "
            ],
            "text/html": [
              "\n",
              "  <div id=\"df-fbf3facb-9d66-4775-9731-5c673df14708\">\n",
              "    <div class=\"colab-df-container\">\n",
              "      <div>\n",
              "<style scoped>\n",
              "    .dataframe tbody tr th:only-of-type {\n",
              "        vertical-align: middle;\n",
              "    }\n",
              "\n",
              "    .dataframe tbody tr th {\n",
              "        vertical-align: top;\n",
              "    }\n",
              "\n",
              "    .dataframe thead th {\n",
              "        text-align: right;\n",
              "    }\n",
              "</style>\n",
              "<table border=\"1\" class=\"dataframe\">\n",
              "  <thead>\n",
              "    <tr style=\"text-align: right;\">\n",
              "      <th></th>\n",
              "      <th>case</th>\n",
              "      <th>site</th>\n",
              "      <th>Pop</th>\n",
              "      <th>sex</th>\n",
              "      <th>age</th>\n",
              "      <th>hdlngth</th>\n",
              "      <th>skullw</th>\n",
              "      <th>totlngth</th>\n",
              "      <th>taill</th>\n",
              "      <th>footlgth</th>\n",
              "      <th>earconch</th>\n",
              "      <th>eye</th>\n",
              "      <th>chest</th>\n",
              "      <th>belly</th>\n",
              "    </tr>\n",
              "  </thead>\n",
              "  <tbody>\n",
              "    <tr>\n",
              "      <th>0</th>\n",
              "      <td>1</td>\n",
              "      <td>1</td>\n",
              "      <td>Vic</td>\n",
              "      <td>m</td>\n",
              "      <td>8.0</td>\n",
              "      <td>94.1</td>\n",
              "      <td>60.4</td>\n",
              "      <td>89.0</td>\n",
              "      <td>36.0</td>\n",
              "      <td>74.5</td>\n",
              "      <td>54.5</td>\n",
              "      <td>15.2</td>\n",
              "      <td>28.0</td>\n",
              "      <td>36.0</td>\n",
              "    </tr>\n",
              "    <tr>\n",
              "      <th>1</th>\n",
              "      <td>2</td>\n",
              "      <td>1</td>\n",
              "      <td>Vic</td>\n",
              "      <td>f</td>\n",
              "      <td>6.0</td>\n",
              "      <td>92.5</td>\n",
              "      <td>57.6</td>\n",
              "      <td>91.5</td>\n",
              "      <td>36.5</td>\n",
              "      <td>72.5</td>\n",
              "      <td>51.2</td>\n",
              "      <td>16.0</td>\n",
              "      <td>28.5</td>\n",
              "      <td>33.0</td>\n",
              "    </tr>\n",
              "    <tr>\n",
              "      <th>2</th>\n",
              "      <td>3</td>\n",
              "      <td>1</td>\n",
              "      <td>Vic</td>\n",
              "      <td>f</td>\n",
              "      <td>6.0</td>\n",
              "      <td>94.0</td>\n",
              "      <td>60.0</td>\n",
              "      <td>95.5</td>\n",
              "      <td>39.0</td>\n",
              "      <td>75.4</td>\n",
              "      <td>51.9</td>\n",
              "      <td>15.5</td>\n",
              "      <td>30.0</td>\n",
              "      <td>34.0</td>\n",
              "    </tr>\n",
              "    <tr>\n",
              "      <th>3</th>\n",
              "      <td>4</td>\n",
              "      <td>1</td>\n",
              "      <td>Vic</td>\n",
              "      <td>f</td>\n",
              "      <td>6.0</td>\n",
              "      <td>93.2</td>\n",
              "      <td>57.1</td>\n",
              "      <td>92.0</td>\n",
              "      <td>38.0</td>\n",
              "      <td>76.1</td>\n",
              "      <td>52.2</td>\n",
              "      <td>15.2</td>\n",
              "      <td>28.0</td>\n",
              "      <td>34.0</td>\n",
              "    </tr>\n",
              "    <tr>\n",
              "      <th>4</th>\n",
              "      <td>5</td>\n",
              "      <td>1</td>\n",
              "      <td>Vic</td>\n",
              "      <td>f</td>\n",
              "      <td>2.0</td>\n",
              "      <td>91.5</td>\n",
              "      <td>56.3</td>\n",
              "      <td>85.5</td>\n",
              "      <td>36.0</td>\n",
              "      <td>71.0</td>\n",
              "      <td>53.2</td>\n",
              "      <td>15.1</td>\n",
              "      <td>28.5</td>\n",
              "      <td>33.0</td>\n",
              "    </tr>\n",
              "  </tbody>\n",
              "</table>\n",
              "</div>\n",
              "      <button class=\"colab-df-convert\" onclick=\"convertToInteractive('df-fbf3facb-9d66-4775-9731-5c673df14708')\"\n",
              "              title=\"Convert this dataframe to an interactive table.\"\n",
              "              style=\"display:none;\">\n",
              "        \n",
              "  <svg xmlns=\"http://www.w3.org/2000/svg\" height=\"24px\"viewBox=\"0 0 24 24\"\n",
              "       width=\"24px\">\n",
              "    <path d=\"M0 0h24v24H0V0z\" fill=\"none\"/>\n",
              "    <path d=\"M18.56 5.44l.94 2.06.94-2.06 2.06-.94-2.06-.94-.94-2.06-.94 2.06-2.06.94zm-11 1L8.5 8.5l.94-2.06 2.06-.94-2.06-.94L8.5 2.5l-.94 2.06-2.06.94zm10 10l.94 2.06.94-2.06 2.06-.94-2.06-.94-.94-2.06-.94 2.06-2.06.94z\"/><path d=\"M17.41 7.96l-1.37-1.37c-.4-.4-.92-.59-1.43-.59-.52 0-1.04.2-1.43.59L10.3 9.45l-7.72 7.72c-.78.78-.78 2.05 0 2.83L4 21.41c.39.39.9.59 1.41.59.51 0 1.02-.2 1.41-.59l7.78-7.78 2.81-2.81c.8-.78.8-2.07 0-2.86zM5.41 20L4 18.59l7.72-7.72 1.47 1.35L5.41 20z\"/>\n",
              "  </svg>\n",
              "      </button>\n",
              "      \n",
              "  <style>\n",
              "    .colab-df-container {\n",
              "      display:flex;\n",
              "      flex-wrap:wrap;\n",
              "      gap: 12px;\n",
              "    }\n",
              "\n",
              "    .colab-df-convert {\n",
              "      background-color: #E8F0FE;\n",
              "      border: none;\n",
              "      border-radius: 50%;\n",
              "      cursor: pointer;\n",
              "      display: none;\n",
              "      fill: #1967D2;\n",
              "      height: 32px;\n",
              "      padding: 0 0 0 0;\n",
              "      width: 32px;\n",
              "    }\n",
              "\n",
              "    .colab-df-convert:hover {\n",
              "      background-color: #E2EBFA;\n",
              "      box-shadow: 0px 1px 2px rgba(60, 64, 67, 0.3), 0px 1px 3px 1px rgba(60, 64, 67, 0.15);\n",
              "      fill: #174EA6;\n",
              "    }\n",
              "\n",
              "    [theme=dark] .colab-df-convert {\n",
              "      background-color: #3B4455;\n",
              "      fill: #D2E3FC;\n",
              "    }\n",
              "\n",
              "    [theme=dark] .colab-df-convert:hover {\n",
              "      background-color: #434B5C;\n",
              "      box-shadow: 0px 1px 3px 1px rgba(0, 0, 0, 0.15);\n",
              "      filter: drop-shadow(0px 1px 2px rgba(0, 0, 0, 0.3));\n",
              "      fill: #FFFFFF;\n",
              "    }\n",
              "  </style>\n",
              "\n",
              "      <script>\n",
              "        const buttonEl =\n",
              "          document.querySelector('#df-fbf3facb-9d66-4775-9731-5c673df14708 button.colab-df-convert');\n",
              "        buttonEl.style.display =\n",
              "          google.colab.kernel.accessAllowed ? 'block' : 'none';\n",
              "\n",
              "        async function convertToInteractive(key) {\n",
              "          const element = document.querySelector('#df-fbf3facb-9d66-4775-9731-5c673df14708');\n",
              "          const dataTable =\n",
              "            await google.colab.kernel.invokeFunction('convertToInteractive',\n",
              "                                                     [key], {});\n",
              "          if (!dataTable) return;\n",
              "\n",
              "          const docLinkHtml = 'Like what you see? Visit the ' +\n",
              "            '<a target=\"_blank\" href=https://colab.research.google.com/notebooks/data_table.ipynb>data table notebook</a>'\n",
              "            + ' to learn more about interactive tables.';\n",
              "          element.innerHTML = '';\n",
              "          dataTable['output_type'] = 'display_data';\n",
              "          await google.colab.output.renderOutput(dataTable, element);\n",
              "          const docLink = document.createElement('div');\n",
              "          docLink.innerHTML = docLinkHtml;\n",
              "          element.appendChild(docLink);\n",
              "        }\n",
              "      </script>\n",
              "    </div>\n",
              "  </div>\n",
              "  "
            ]
          },
          "metadata": {},
          "execution_count": 6
        }
      ]
    },
    {
      "cell_type": "code",
      "source": [
        "# step 2: seprate features"
      ],
      "metadata": {
        "id": "_irlX6MPx7PE"
      },
      "execution_count": null,
      "outputs": []
    },
    {
      "cell_type": "code",
      "source": [
        "df_y = df[[\"age\"]]"
      ],
      "metadata": {
        "id": "ZK3agSPyQ3pk"
      },
      "execution_count": null,
      "outputs": []
    },
    {
      "cell_type": "code",
      "source": [
        "df_x = df.drop(labels=[\"case\", \"site\", \"Pop\", \"age\"], axis=1)"
      ],
      "metadata": {
        "id": "SVO_WZ0KRBxl"
      },
      "execution_count": null,
      "outputs": []
    },
    {
      "cell_type": "code",
      "source": [
        "# step 3: encode charachters to number"
      ],
      "metadata": {
        "id": "bo1dnri7yLsh"
      },
      "execution_count": null,
      "outputs": []
    },
    {
      "cell_type": "code",
      "source": [
        "from sklearn.preprocessing import LabelEncoder\n",
        "df_x_array = df_x.values\n",
        "df_x_encoded = df_x_array.copy()\n",
        "encoder = LabelEncoder()\n",
        "df_x_encoded[:, 0] = encoder.fit_transform(df_x_array[:, 0 ])"
      ],
      "metadata": {
        "id": "be0wsjFsR0ks"
      },
      "execution_count": null,
      "outputs": []
    },
    {
      "cell_type": "code",
      "source": [
        "print(df_x_encoded)"
      ],
      "metadata": {
        "colab": {
          "base_uri": "https://localhost:8080/"
        },
        "id": "zzIV4qVmtR8M",
        "outputId": "e199a13e-a4f6-4d10-efc2-1de363f9cd1a"
      },
      "execution_count": null,
      "outputs": [
        {
          "output_type": "stream",
          "name": "stdout",
          "text": [
            "     0     1     2     3     4     5     6     7     8     9\n",
            "0    1  94.1  60.4  89.0  36.0  74.5  54.5  15.2  28.0  36.0\n",
            "1    0  92.5  57.6  91.5  36.5  72.5  51.2  16.0  28.5  33.0\n",
            "2    0  94.0  60.0  95.5  39.0  75.4  51.9  15.5  30.0  34.0\n",
            "3    0  93.2  57.1  92.0  38.0  76.1  52.2  15.2  28.0  34.0\n",
            "4    0  91.5  56.3  85.5  36.0  71.0  53.2  15.1  28.5  33.0\n",
            "..  ..   ...   ...   ...   ...   ...   ...   ...   ...   ...\n",
            "99   1  89.5  56.0  81.5  36.5  66.0  46.8  14.8  23.0  27.0\n",
            "100  1  88.6  54.7  82.5  39.0  64.4  48.0  14.0  25.0  33.0\n",
            "101  0  92.4  55.0  89.0  38.0  63.5  45.4  13.0  25.0  30.0\n",
            "102  1  91.5  55.2  82.5  36.5  62.9  45.9  15.4  25.0  29.0\n",
            "103  0  93.6  59.9  89.0  40.0  67.6  46.0  14.8  28.5  33.5\n",
            "\n",
            "[104 rows x 10 columns]\n"
          ]
        }
      ]
    },
    {
      "cell_type": "code",
      "source": [
        "# step 4: fill nans with mean"
      ],
      "metadata": {
        "id": "TqYDQNbXyWgY"
      },
      "execution_count": null,
      "outputs": []
    },
    {
      "cell_type": "code",
      "source": [
        "df_x_encoded = pd.DataFrame(df_x_encoded)\n",
        "df_x_nans_filled = df_x_encoded.fillna(df_x_encoded.mean())"
      ],
      "metadata": {
        "id": "-wYcR4eWrwc4"
      },
      "execution_count": null,
      "outputs": []
    },
    {
      "cell_type": "code",
      "source": [
        "df_y_nans_filled = df_y.fillna(df_y.mean())"
      ],
      "metadata": {
        "id": "fDulTu79pu7F"
      },
      "execution_count": null,
      "outputs": []
    },
    {
      "cell_type": "code",
      "source": [
        "# step 5: normalize X datas"
      ],
      "metadata": {
        "id": "9d7zQ_AHytPJ"
      },
      "execution_count": null,
      "outputs": []
    },
    {
      "cell_type": "code",
      "source": [
        "from sklearn.preprocessing import StandardScaler\n",
        "\n",
        "scaler = StandardScaler()\n",
        "x_nrm =  scaler.fit_transform(df_x_nans_filled)"
      ],
      "metadata": {
        "id": "yY3R2VvZy6Ow"
      },
      "execution_count": 31,
      "outputs": []
    },
    {
      "cell_type": "code",
      "source": [
        "# step 6: split data to train & test"
      ],
      "metadata": {
        "id": "cEnDWFTr4rMx"
      },
      "execution_count": null,
      "outputs": []
    },
    {
      "cell_type": "code",
      "source": [
        "from sklearn.model_selection  import train_test_split\n",
        "\n",
        "x_train, x_test, y_train, y_test = train_test_split(x_nrm, df_y_nans_filled.values.reshape((-1, )), train_size=0.8)"
      ],
      "metadata": {
        "id": "jJLJe3_i4zZL"
      },
      "execution_count": 32,
      "outputs": []
    },
    {
      "cell_type": "code",
      "source": [
        "# step 7: initialize model callback"
      ],
      "metadata": {
        "id": "zZZzq2_0-rcZ"
      },
      "execution_count": null,
      "outputs": []
    },
    {
      "cell_type": "code",
      "source": [
        "from keras.callbacks import EarlyStopping\n",
        "\n",
        "callBack  = EarlyStopping(patience=5, restore_best_weights=True)"
      ],
      "metadata": {
        "id": "dY15MXhz_Rho"
      },
      "execution_count": 37,
      "outputs": []
    },
    {
      "cell_type": "code",
      "source": [
        "# step 8: define Dense model"
      ],
      "metadata": {
        "id": "joQVEbAp6qXV"
      },
      "execution_count": 34,
      "outputs": []
    },
    {
      "cell_type": "code",
      "source": [
        "from keras.models import Sequential\n",
        "from keras.layers import Dense\n",
        "\n",
        "model = Sequential()\n",
        "model.add(Dense(64, activation='relu', input_shape=x_train.shape[1:]))\n",
        "model.add(Dense(32, activation='relu'))\n",
        "model.add(Dense(1, activation='linear'))\n",
        "\n",
        "model.compile(optimizer='adam', loss='mse')\n",
        "print(model.summary())"
      ],
      "metadata": {
        "colab": {
          "base_uri": "https://localhost:8080/"
        },
        "id": "DSzjeQ9j66UN",
        "outputId": "c8e65b78-6c0e-4122-8a99-8c11a1ac4cef"
      },
      "execution_count": 38,
      "outputs": [
        {
          "output_type": "stream",
          "name": "stdout",
          "text": [
            "Model: \"sequential_1\"\n",
            "_________________________________________________________________\n",
            " Layer (type)                Output Shape              Param #   \n",
            "=================================================================\n",
            " dense_3 (Dense)             (None, 64)                704       \n",
            "                                                                 \n",
            " dense_4 (Dense)             (None, 32)                2080      \n",
            "                                                                 \n",
            " dense_5 (Dense)             (None, 1)                 33        \n",
            "                                                                 \n",
            "=================================================================\n",
            "Total params: 2,817\n",
            "Trainable params: 2,817\n",
            "Non-trainable params: 0\n",
            "_________________________________________________________________\n",
            "None\n"
          ]
        }
      ]
    },
    {
      "cell_type": "code",
      "source": [
        "# step 9: fit model"
      ],
      "metadata": {
        "id": "pciw5P2_8-bF"
      },
      "execution_count": null,
      "outputs": []
    },
    {
      "cell_type": "code",
      "source": [
        "results = model.fit(x_train, y_train, epochs=40, validation_data=(x_test, y_test), callbacks=callBack)"
      ],
      "metadata": {
        "colab": {
          "base_uri": "https://localhost:8080/"
        },
        "id": "cxnx26G4Axkm",
        "outputId": "bc4fc1c4-3ecc-46b2-e47a-a0f9ea1cde5c"
      },
      "execution_count": 41,
      "outputs": [
        {
          "output_type": "stream",
          "name": "stdout",
          "text": [
            "Epoch 1/40\n",
            "3/3 [==============================] - 0s 76ms/step - loss: 2.5007 - val_loss: 3.9189\n",
            "Epoch 2/40\n",
            "3/3 [==============================] - 0s 22ms/step - loss: 2.4616 - val_loss: 3.8985\n",
            "Epoch 3/40\n",
            "3/3 [==============================] - 0s 22ms/step - loss: 2.4296 - val_loss: 3.8687\n",
            "Epoch 4/40\n",
            "3/3 [==============================] - 0s 21ms/step - loss: 2.3965 - val_loss: 3.8652\n",
            "Epoch 5/40\n",
            "3/3 [==============================] - 0s 21ms/step - loss: 2.3561 - val_loss: 3.8620\n",
            "Epoch 6/40\n",
            "3/3 [==============================] - 0s 21ms/step - loss: 2.3279 - val_loss: 3.8478\n",
            "Epoch 7/40\n",
            "3/3 [==============================] - 0s 18ms/step - loss: 2.2999 - val_loss: 3.8219\n",
            "Epoch 8/40\n",
            "3/3 [==============================] - 0s 18ms/step - loss: 2.2677 - val_loss: 3.8436\n",
            "Epoch 9/40\n",
            "3/3 [==============================] - 0s 18ms/step - loss: 2.2393 - val_loss: 3.8368\n",
            "Epoch 10/40\n",
            "3/3 [==============================] - 0s 18ms/step - loss: 2.2170 - val_loss: 3.8576\n",
            "Epoch 11/40\n",
            "3/3 [==============================] - 0s 18ms/step - loss: 2.1826 - val_loss: 3.8300\n",
            "Epoch 12/40\n",
            "3/3 [==============================] - 0s 17ms/step - loss: 2.1579 - val_loss: 3.7996\n",
            "Epoch 13/40\n",
            "3/3 [==============================] - 0s 20ms/step - loss: 2.1293 - val_loss: 3.7543\n",
            "Epoch 14/40\n",
            "3/3 [==============================] - 0s 17ms/step - loss: 2.1030 - val_loss: 3.7466\n",
            "Epoch 15/40\n",
            "3/3 [==============================] - 0s 18ms/step - loss: 2.0788 - val_loss: 3.7259\n",
            "Epoch 16/40\n",
            "3/3 [==============================] - 0s 16ms/step - loss: 2.0531 - val_loss: 3.7277\n",
            "Epoch 17/40\n",
            "3/3 [==============================] - 0s 23ms/step - loss: 2.0281 - val_loss: 3.7384\n",
            "Epoch 18/40\n",
            "3/3 [==============================] - 0s 19ms/step - loss: 1.9994 - val_loss: 3.7305\n",
            "Epoch 19/40\n",
            "3/3 [==============================] - 0s 27ms/step - loss: 1.9787 - val_loss: 3.7188\n",
            "Epoch 20/40\n",
            "3/3 [==============================] - 0s 18ms/step - loss: 1.9556 - val_loss: 3.7040\n",
            "Epoch 21/40\n",
            "3/3 [==============================] - 0s 17ms/step - loss: 1.9268 - val_loss: 3.6686\n",
            "Epoch 22/40\n",
            "3/3 [==============================] - 0s 17ms/step - loss: 1.9066 - val_loss: 3.6411\n",
            "Epoch 23/40\n",
            "3/3 [==============================] - 0s 23ms/step - loss: 1.8847 - val_loss: 3.6284\n",
            "Epoch 24/40\n",
            "3/3 [==============================] - 0s 18ms/step - loss: 1.8648 - val_loss: 3.6228\n",
            "Epoch 25/40\n",
            "3/3 [==============================] - 0s 17ms/step - loss: 1.8409 - val_loss: 3.6278\n",
            "Epoch 26/40\n",
            "3/3 [==============================] - 0s 17ms/step - loss: 1.8190 - val_loss: 3.6475\n",
            "Epoch 27/40\n",
            "3/3 [==============================] - 0s 16ms/step - loss: 1.8017 - val_loss: 3.6859\n",
            "Epoch 28/40\n",
            "3/3 [==============================] - 0s 22ms/step - loss: 1.7796 - val_loss: 3.6985\n",
            "Epoch 29/40\n",
            "3/3 [==============================] - 0s 31ms/step - loss: 1.7601 - val_loss: 3.7077\n"
          ]
        }
      ]
    },
    {
      "cell_type": "code",
      "source": [
        "# step 10: prediction"
      ],
      "metadata": {
        "id": "u8UAXdujPOmG"
      },
      "execution_count": null,
      "outputs": []
    },
    {
      "cell_type": "code",
      "source": [
        "yhat_test = model.predict(x_test).round()"
      ],
      "metadata": {
        "colab": {
          "base_uri": "https://localhost:8080/"
        },
        "id": "RHxA6UGFPUM0",
        "outputId": "b9fd514f-5da9-4866-e192-d3be9c48ba14"
      },
      "execution_count": 50,
      "outputs": [
        {
          "output_type": "stream",
          "name": "stdout",
          "text": [
            "1/1 [==============================] - 0s 151ms/step\n"
          ]
        }
      ]
    },
    {
      "cell_type": "code",
      "source": [
        "# step 11: metrics"
      ],
      "metadata": {
        "id": "O6V06iLLP_Sx"
      },
      "execution_count": null,
      "outputs": []
    },
    {
      "cell_type": "code",
      "source": [
        "from sklearn.metrics import classification_report as cr\n",
        "from sklearn.metrics import confusion_matrix as cm\n",
        "\n",
        "yhat_test_reshaped = np.reshape(yhat_test, y_test.shape)\n",
        "print(cr(y_test, yhat_test_reshaped))\n",
        "print(cm(y_test, yhat_test_reshaped))"
      ],
      "metadata": {
        "colab": {
          "base_uri": "https://localhost:8080/"
        },
        "id": "v8XCkew0QLnl",
        "outputId": "a57b5481-43b5-478e-f916-81ca10d4699a"
      },
      "execution_count": 60,
      "outputs": [
        {
          "output_type": "stream",
          "name": "stdout",
          "text": [
            "              precision    recall  f1-score   support\n",
            "\n",
            "         1.0       0.00      0.00      0.00         1\n",
            "         2.0       0.00      0.00      0.00         1\n",
            "         3.0       0.20      0.12      0.15         8\n",
            "         4.0       0.00      0.00      0.00         5\n",
            "         5.0       0.25      0.33      0.29         3\n",
            "         6.0       0.00      0.00      0.00         0\n",
            "         7.0       0.00      0.00      0.00         3\n",
            "\n",
            "    accuracy                           0.10        21\n",
            "   macro avg       0.06      0.07      0.06        21\n",
            "weighted avg       0.11      0.10      0.10        21\n",
            "\n",
            "[[0 0 0 0 1 0 0]\n",
            " [0 0 0 1 0 0 0]\n",
            " [0 2 1 4 0 0 1]\n",
            " [0 0 4 0 1 0 0]\n",
            " [0 0 0 1 1 0 1]\n",
            " [0 0 0 0 0 0 0]\n",
            " [0 0 0 1 1 1 0]]\n"
          ]
        },
        {
          "output_type": "stream",
          "name": "stderr",
          "text": [
            "/usr/local/lib/python3.10/dist-packages/sklearn/metrics/_classification.py:1344: UndefinedMetricWarning: Precision and F-score are ill-defined and being set to 0.0 in labels with no predicted samples. Use `zero_division` parameter to control this behavior.\n",
            "  _warn_prf(average, modifier, msg_start, len(result))\n",
            "/usr/local/lib/python3.10/dist-packages/sklearn/metrics/_classification.py:1344: UndefinedMetricWarning: Recall and F-score are ill-defined and being set to 0.0 in labels with no true samples. Use `zero_division` parameter to control this behavior.\n",
            "  _warn_prf(average, modifier, msg_start, len(result))\n",
            "/usr/local/lib/python3.10/dist-packages/sklearn/metrics/_classification.py:1344: UndefinedMetricWarning: Precision and F-score are ill-defined and being set to 0.0 in labels with no predicted samples. Use `zero_division` parameter to control this behavior.\n",
            "  _warn_prf(average, modifier, msg_start, len(result))\n",
            "/usr/local/lib/python3.10/dist-packages/sklearn/metrics/_classification.py:1344: UndefinedMetricWarning: Recall and F-score are ill-defined and being set to 0.0 in labels with no true samples. Use `zero_division` parameter to control this behavior.\n",
            "  _warn_prf(average, modifier, msg_start, len(result))\n",
            "/usr/local/lib/python3.10/dist-packages/sklearn/metrics/_classification.py:1344: UndefinedMetricWarning: Precision and F-score are ill-defined and being set to 0.0 in labels with no predicted samples. Use `zero_division` parameter to control this behavior.\n",
            "  _warn_prf(average, modifier, msg_start, len(result))\n",
            "/usr/local/lib/python3.10/dist-packages/sklearn/metrics/_classification.py:1344: UndefinedMetricWarning: Recall and F-score are ill-defined and being set to 0.0 in labels with no true samples. Use `zero_division` parameter to control this behavior.\n",
            "  _warn_prf(average, modifier, msg_start, len(result))\n"
          ]
        }
      ]
    },
    {
      "cell_type": "code",
      "source": [
        "import matplotlib.pyplot as plt\n",
        "\n",
        "plt.scatter(y_test, yhat_test_reshaped)"
      ],
      "metadata": {
        "colab": {
          "base_uri": "https://localhost:8080/",
          "height": 447
        },
        "id": "5rd_Zh62PnPt",
        "outputId": "b8788d77-6694-44e3-e7c7-8684e4b50648"
      },
      "execution_count": 61,
      "outputs": [
        {
          "output_type": "execute_result",
          "data": {
            "text/plain": [
              "<matplotlib.collections.PathCollection at 0x7fad6d462290>"
            ]
          },
          "metadata": {},
          "execution_count": 61
        },
        {
          "output_type": "display_data",
          "data": {
            "text/plain": [
              "<Figure size 640x480 with 1 Axes>"
            ],
            "image/png": "[encoded data removed]"
          },
          "metadata": {}
        }
      ]
    },
    {
      "cell_type": "code",
      "source": [
        "plt.plot(results.history['loss'], label='train')\n",
        "plt.plot(results.history['val_loss'], label='test')\n",
        "plt.legend()"
      ],
      "metadata": {
        "colab": {
          "base_uri": "https://localhost:8080/",
          "height": 448
        },
        "id": "5iKo1nABToHN",
        "outputId": "7ecbee74-a20a-4255-b21e-e24eb4edb11d"
      },
      "execution_count": 56,
      "outputs": [
        {
          "output_type": "execute_result",
          "data": {
            "text/plain": [
              "<matplotlib.legend.Legend at 0x7fad6cb059f0>"
            ]
          },
          "metadata": {},
          "execution_count": 56
        },
        {
          "output_type": "display_data",
          "data": {
            "text/plain": [
              "<Figure size 640x480 with 1 Axes>"
            ],
            "image/png": "[encoded data removed]"
          },
          "metadata": {}
        }
      ]
    },
    {
      "cell_type": "code",
      "source": [
        "model_2 = Sequential()\n",
        "model_2.add(Dense(128, activation='relu', input_shape=x_train.shape[1:]))\n",
        "model_2.add(Dense(64, activation='relu'))\n",
        "model_2.add(Dense(32, activation='relu'))\n",
        "model_2.add(Dense(1, activation='linear'))\n",
        "\n",
        "model_2.compile(optimizer='adam', loss='mse')\n",
        "\n",
        "results_2 = model_2.fit(x_train, y_train, epochs=100, validation_data=(x_test, y_test), callbacks=callBack)"
      ],
      "metadata": {
        "colab": {
          "base_uri": "https://localhost:8080/"
        },
        "id": "g9CBnhHOVjFk",
        "outputId": "33487989-0a21-4cf2-bce8-8385eef10af6"
      },
      "execution_count": 58,
      "outputs": [
        {
          "output_type": "stream",
          "name": "stdout",
          "text": [
            "Epoch 1/100\n",
            "3/3 [==============================] - 2s 136ms/step - loss: 16.2447 - val_loss: 14.0764\n",
            "Epoch 2/100\n",
            "3/3 [==============================] - 0s 35ms/step - loss: 14.2613 - val_loss: 11.7974\n",
            "Epoch 3/100\n",
            "3/3 [==============================] - 0s 33ms/step - loss: 12.1611 - val_loss: 9.4872\n",
            "Epoch 4/100\n",
            "3/3 [==============================] - 0s 45ms/step - loss: 10.1544 - val_loss: 7.2181\n",
            "Epoch 5/100\n",
            "3/3 [==============================] - 0s 47ms/step - loss: 8.4163 - val_loss: 5.2354\n",
            "Epoch 6/100\n",
            "3/3 [==============================] - 0s 26ms/step - loss: 6.7989 - val_loss: 3.8456\n",
            "Epoch 7/100\n",
            "3/3 [==============================] - 0s 29ms/step - loss: 5.5338 - val_loss: 3.2478\n",
            "Epoch 8/100\n",
            "3/3 [==============================] - 0s 39ms/step - loss: 5.0677 - val_loss: 3.3902\n",
            "Epoch 9/100\n",
            "3/3 [==============================] - 0s 25ms/step - loss: 4.8410 - val_loss: 3.9268\n",
            "Epoch 10/100\n",
            "3/3 [==============================] - 0s 34ms/step - loss: 4.6470 - val_loss: 4.2614\n",
            "Epoch 11/100\n",
            "3/3 [==============================] - 0s 36ms/step - loss: 4.4274 - val_loss: 4.3986\n",
            "Epoch 12/100\n",
            "3/3 [==============================] - 0s 41ms/step - loss: 4.0928 - val_loss: 4.3363\n"
          ]
        }
      ]
    },
    {
      "cell_type": "code",
      "source": [
        "yhat_test_2 = model_2.predict(x_test).round()"
      ],
      "metadata": {
        "colab": {
          "base_uri": "https://localhost:8080/"
        },
        "id": "r4QWzeHbXYxn",
        "outputId": "76100407-98d0-41a3-cd21-c9b1d70c3c74"
      },
      "execution_count": 59,
      "outputs": [
        {
          "output_type": "stream",
          "name": "stdout",
          "text": [
            "1/1 [==============================] - 0s 70ms/step\n"
          ]
        }
      ]
    },
    {
      "cell_type": "code",
      "source": [
        "yhat_test_reshaped_2 = np.reshape(yhat_test_2, y_test.shape)\n",
        "print(cr(y_test, yhat_test_reshaped_2))\n",
        "print(cm(y_test, yhat_test_reshaped_2))"
      ],
      "metadata": {
        "colab": {
          "base_uri": "https://localhost:8080/"
        },
        "id": "qMzl-qwUXcs2",
        "outputId": "b04deabf-e8f1-4daf-c9c6-9c2b92c058db"
      },
      "execution_count": 62,
      "outputs": [
        {
          "output_type": "stream",
          "name": "stdout",
          "text": [
            "              precision    recall  f1-score   support\n",
            "\n",
            "         1.0       0.00      0.00      0.00         1\n",
            "         2.0       0.00      0.00      0.00         1\n",
            "         3.0       0.44      0.50      0.47         8\n",
            "         4.0       0.33      0.20      0.25         5\n",
            "         5.0       0.50      0.33      0.40         3\n",
            "         6.0       0.00      0.00      0.00         0\n",
            "         7.0       0.00      0.00      0.00         3\n",
            "\n",
            "    accuracy                           0.29        21\n",
            "   macro avg       0.18      0.15      0.16        21\n",
            "weighted avg       0.32      0.29      0.30        21\n",
            "\n",
            "[[0 0 0 1 0 0 0]\n",
            " [0 0 1 0 0 0 0]\n",
            " [0 2 4 1 0 1 0]\n",
            " [0 3 1 1 0 0 0]\n",
            " [0 0 2 0 1 0 0]\n",
            " [0 0 0 0 0 0 0]\n",
            " [0 0 1 0 1 1 0]]\n"
          ]
        },
        {
          "output_type": "stream",
          "name": "stderr",
          "text": [
            "/usr/local/lib/python3.10/dist-packages/sklearn/metrics/_classification.py:1344: UndefinedMetricWarning: Precision and F-score are ill-defined and being set to 0.0 in labels with no predicted samples. Use `zero_division` parameter to control this behavior.\n",
            "  _warn_prf(average, modifier, msg_start, len(result))\n",
            "/usr/local/lib/python3.10/dist-packages/sklearn/metrics/_classification.py:1344: UndefinedMetricWarning: Recall and F-score are ill-defined and being set to 0.0 in labels with no true samples. Use `zero_division` parameter to control this behavior.\n",
            "  _warn_prf(average, modifier, msg_start, len(result))\n",
            "/usr/local/lib/python3.10/dist-packages/sklearn/metrics/_classification.py:1344: UndefinedMetricWarning: Precision and F-score are ill-defined and being set to 0.0 in labels with no predicted samples. Use `zero_division` parameter to control this behavior.\n",
            "  _warn_prf(average, modifier, msg_start, len(result))\n",
            "/usr/local/lib/python3.10/dist-packages/sklearn/metrics/_classification.py:1344: UndefinedMetricWarning: Recall and F-score are ill-defined and being set to 0.0 in labels with no true samples. Use `zero_division` parameter to control this behavior.\n",
            "  _warn_prf(average, modifier, msg_start, len(result))\n",
            "/usr/local/lib/python3.10/dist-packages/sklearn/metrics/_classification.py:1344: UndefinedMetricWarning: Precision and F-score are ill-defined and being set to 0.0 in labels with no predicted samples. Use `zero_division` parameter to control this behavior.\n",
            "  _warn_prf(average, modifier, msg_start, len(result))\n",
            "/usr/local/lib/python3.10/dist-packages/sklearn/metrics/_classification.py:1344: UndefinedMetricWarning: Recall and F-score are ill-defined and being set to 0.0 in labels with no true samples. Use `zero_division` parameter to control this behavior.\n",
            "  _warn_prf(average, modifier, msg_start, len(result))\n"
          ]
        }
      ]
    },
    {
      "cell_type": "code",
      "source": [
        "plt.scatter(y_test, yhat_test_reshaped_2)"
      ],
      "metadata": {
        "colab": {
          "base_uri": "https://localhost:8080/",
          "height": 447
        },
        "id": "AJKzAdjnX73N",
        "outputId": "d3014923-b75b-4938-ae25-443c5a7b726d"
      },
      "execution_count": 63,
      "outputs": [
        {
          "output_type": "execute_result",
          "data": {
            "text/plain": [
              "<matplotlib.collections.PathCollection at 0x7fad6d4d3c70>"
            ]
          },
          "metadata": {},
          "execution_count": 63
        },
        {
          "output_type": "display_data",
          "data": {
            "text/plain": [
              "<Figure size 640x480 with 1 Axes>"
            ],
            "image/png": "[encoded data removed]"
          },
          "metadata": {}
        }
      ]
    },
    {
      "cell_type": "code",
      "source": [
        "plt.plot(results_2.history['loss'], label='train')\n",
        "plt.plot(results_2.history['val_loss'], label='test')\n",
        "plt.legend()"
      ],
      "metadata": {
        "colab": {
          "base_uri": "https://localhost:8080/",
          "height": 447
        },
        "id": "zlKce59YYFt0",
        "outputId": "342ba27f-bd57-4f92-b218-da03133c871b"
      },
      "execution_count": 64,
      "outputs": [
        {
          "output_type": "execute_result",
          "data": {
            "text/plain": [
              "<matplotlib.legend.Legend at 0x7fad6d35e260>"
            ]
          },
          "metadata": {},
          "execution_count": 64
        },
        {
          "output_type": "display_data",
          "data": {
            "text/plain": [
              "<Figure size 640x480 with 1 Axes>"
            ],
            "image/png": "[encoded data removed]"
          },
          "metadata": {}
        }
      ]
    },
    {
      "cell_type": "code",
      "source": [
        "from keras.optimizers import RMSprop\n",
        "from keras.layers import LeakyReLU\n",
        "\n",
        "model_3 = Sequential()\n",
        "model_3.add(Dense(128, activation='relu', input_shape=x_train.shape[1:]))\n",
        "model_3.add(Dense(64))\n",
        "model_3.add(LeakyReLU(alpha=0.1))\n",
        "model_3.add(Dense(32))\n",
        "model_3.add(LeakyReLU(alpha=0.1))\n",
        "model_3.add(Dense(1, activation='linear'))\n",
        "\n",
        "model_3.compile(optimizer=RMSprop(lr=0.001), loss='mse')\n",
        "\n",
        "results_3 = model_3.fit(x_train, y_train, epochs=100, batch_size=16, validation_data=(x_test, y_test), callbacks=callBack)"
      ],
      "metadata": {
        "colab": {
          "base_uri": "https://localhost:8080/"
        },
        "id": "elMD_LM_YQKf",
        "outputId": "629b8c0e-d54a-46dd-9518-80408123579c"
      },
      "execution_count": 65,
      "outputs": [
        {
          "output_type": "stream",
          "name": "stdout",
          "text": [
            "Epoch 1/100\n"
          ]
        },
        {
          "output_type": "stream",
          "name": "stderr",
          "text": [
            "/usr/local/lib/python3.10/dist-packages/keras/optimizers/legacy/rmsprop.py:143: UserWarning: The `lr` argument is deprecated, use `learning_rate` instead.\n",
            "  super().__init__(name, **kwargs)\n"
          ]
        },
        {
          "output_type": "stream",
          "name": "stdout",
          "text": [
            "6/6 [==============================] - 1s 39ms/step - loss: 14.2576 - val_loss: 8.4349\n",
            "Epoch 2/100\n",
            "6/6 [==============================] - 0s 9ms/step - loss: 7.6750 - val_loss: 4.1222\n",
            "Epoch 3/100\n",
            "6/6 [==============================] - 0s 9ms/step - loss: 4.8480 - val_loss: 3.7729\n",
            "Epoch 4/100\n",
            "6/6 [==============================] - 0s 12ms/step - loss: 3.9698 - val_loss: 3.6956\n",
            "Epoch 5/100\n",
            "6/6 [==============================] - 0s 8ms/step - loss: 3.6099 - val_loss: 3.9688\n",
            "Epoch 6/100\n",
            "6/6 [==============================] - 0s 12ms/step - loss: 3.3687 - val_loss: 4.6277\n",
            "Epoch 7/100\n",
            "6/6 [==============================] - 0s 12ms/step - loss: 3.1024 - val_loss: 4.6952\n",
            "Epoch 8/100\n",
            "6/6 [==============================] - 0s 8ms/step - loss: 2.9205 - val_loss: 4.0378\n",
            "Epoch 9/100\n",
            "6/6 [==============================] - 0s 13ms/step - loss: 2.7135 - val_loss: 4.1705\n"
          ]
        }
      ]
    },
    {
      "cell_type": "code",
      "source": [
        "yhat_test_3 = model_3.predict(x_test).round()\n",
        "\n",
        "yhat_test_reshaped_3 = np.reshape(yhat_test_3, y_test.shape)\n",
        "print(cr(y_test, yhat_test_reshaped_3))\n",
        "print(cm(y_test, yhat_test_reshaped_3))"
      ],
      "metadata": {
        "colab": {
          "base_uri": "https://localhost:8080/"
        },
        "id": "9ufnK1RsZad4",
        "outputId": "290ba2a2-e421-48e3-c923-7d550f4f0af6"
      },
      "execution_count": 66,
      "outputs": [
        {
          "output_type": "stream",
          "name": "stdout",
          "text": [
            "1/1 [==============================] - 0s 69ms/step\n",
            "              precision    recall  f1-score   support\n",
            "\n",
            "         1.0       0.00      0.00      0.00         1\n",
            "         2.0       0.00      0.00      0.00         1\n",
            "         3.0       0.25      0.12      0.17         8\n",
            "         4.0       0.20      0.20      0.20         5\n",
            "         5.0       0.50      0.67      0.57         3\n",
            "         7.0       0.50      0.33      0.40         3\n",
            "\n",
            "    accuracy                           0.24        21\n",
            "   macro avg       0.24      0.22      0.22        21\n",
            "weighted avg       0.29      0.24      0.25        21\n",
            "\n",
            "[[0 0 0 0 1 0]\n",
            " [0 0 1 0 0 0]\n",
            " [0 3 1 3 0 1]\n",
            " [0 3 1 1 0 0]\n",
            " [0 0 1 0 2 0]\n",
            " [0 0 0 1 1 1]]\n"
          ]
        },
        {
          "output_type": "stream",
          "name": "stderr",
          "text": [
            "/usr/local/lib/python3.10/dist-packages/sklearn/metrics/_classification.py:1344: UndefinedMetricWarning: Precision and F-score are ill-defined and being set to 0.0 in labels with no predicted samples. Use `zero_division` parameter to control this behavior.\n",
            "  _warn_prf(average, modifier, msg_start, len(result))\n",
            "/usr/local/lib/python3.10/dist-packages/sklearn/metrics/_classification.py:1344: UndefinedMetricWarning: Precision and F-score are ill-defined and being set to 0.0 in labels with no predicted samples. Use `zero_division` parameter to control this behavior.\n",
            "  _warn_prf(average, modifier, msg_start, len(result))\n",
            "/usr/local/lib/python3.10/dist-packages/sklearn/metrics/_classification.py:1344: UndefinedMetricWarning: Precision and F-score are ill-defined and being set to 0.0 in labels with no predicted samples. Use `zero_division` parameter to control this behavior.\n",
            "  _warn_prf(average, modifier, msg_start, len(result))\n"
          ]
        }
      ]
    },
    {
      "cell_type": "code",
      "source": [
        "plt.scatter(y_test, yhat_test_reshaped_3)"
      ],
      "metadata": {
        "colab": {
          "base_uri": "https://localhost:8080/",
          "height": 447
        },
        "id": "-ExKEpDTZuPJ",
        "outputId": "8d9a76c2-8b20-4686-e9b8-d3bc48973ecf"
      },
      "execution_count": 67,
      "outputs": [
        {
          "output_type": "execute_result",
          "data": {
            "text/plain": [
              "<matplotlib.collections.PathCollection at 0x7fadd3c107c0>"
            ]
          },
          "metadata": {},
          "execution_count": 67
        },
        {
          "output_type": "display_data",
          "data": {
            "text/plain": [
              "<Figure size 640x480 with 1 Axes>"
            ],
            "image/png": "[encoded data removed]"
          },
          "metadata": {}
        }
      ]
    },
    {
      "cell_type": "code",
      "source": [
        "plt.plot(results_3.history['loss'], label='train')\n",
        "plt.plot(results_3.history['val_loss'], label='test')\n",
        "plt.legend()"
      ],
      "metadata": {
        "colab": {
          "base_uri": "https://localhost:8080/",
          "height": 447
        },
        "id": "4DhvX-UQZ0Wn",
        "outputId": "95bf8cb2-a8b2-47fa-d7d5-c039e198f135"
      },
      "execution_count": 68,
      "outputs": [
        {
          "output_type": "execute_result",
          "data": {
            "text/plain": [
              "<matplotlib.legend.Legend at 0x7fad6d1bed70>"
            ]
          },
          "metadata": {},
          "execution_count": 68
        },
        {
          "output_type": "display_data",
          "data": {
            "text/plain": [
              "<Figure size 640x480 with 1 Axes>"
            ],
            "image/png": "[encoded data removed]"
          },
          "metadata": {}
        }
      ]
    },
    {
      "cell_type": "code",
      "source": [
        "model_4 = Sequential()\n",
        "model_4.add(Dense(128, activation='tanh', input_shape=x_train.shape[1:]))\n",
        "model_4.add(Dense(64, activation='tanh'))\n",
        "model_4.add(Dense(32, activation='tanh'))\n",
        "model_4.add(Dense(16, activation='tanh'))\n",
        "model_4.add(Dense(1, activation='linear'))\n",
        "\n",
        "model_4.compile(optimizer='adam', loss='mse')\n",
        "\n",
        "results_4 = model_4.fit(x_train, y_train, epochs=100, validation_data=(x_test, y_test), callbacks=callBack)\n",
        "\n",
        "yhat_test_4 = model_4.predict(x_test).round()\n",
        "yhat_test_reshaped_4 = np.reshape(yhat_test_4, y_test.shape)\n",
        "print(cr(y_test, yhat_test_reshaped_4))\n",
        "print(cm(y_test, yhat_test_reshaped_4))\n",
        "\n",
        "plt.scatter(y_test, yhat_test_reshaped_4)"
      ],
      "metadata": {
        "colab": {
          "base_uri": "https://localhost:8080/",
          "height": 1000
        },
        "id": "jDPLFwN1aE1P",
        "outputId": "dc0be890-74c8-46ab-cdce-939a542c32de"
      },
      "execution_count": 70,
      "outputs": [
        {
          "output_type": "stream",
          "name": "stdout",
          "text": [
            "Epoch 1/100\n",
            "3/3 [==============================] - 3s 99ms/step - loss: 18.1418 - val_loss: 18.2952\n",
            "Epoch 2/100\n",
            "3/3 [==============================] - 0s 18ms/step - loss: 17.2219 - val_loss: 17.5013\n",
            "Epoch 3/100\n",
            "3/3 [==============================] - 0s 19ms/step - loss: 16.4461 - val_loss: 16.8992\n",
            "Epoch 4/100\n",
            "3/3 [==============================] - 0s 28ms/step - loss: 15.8192 - val_loss: 16.2510\n",
            "Epoch 5/100\n",
            "3/3 [==============================] - 0s 20ms/step - loss: 15.2912 - val_loss: 15.5963\n",
            "Epoch 6/100\n",
            "3/3 [==============================] - 0s 20ms/step - loss: 14.5105 - val_loss: 14.8739\n",
            "Epoch 7/100\n",
            "3/3 [==============================] - 0s 19ms/step - loss: 13.6987 - val_loss: 14.0803\n",
            "Epoch 8/100\n",
            "3/3 [==============================] - 0s 29ms/step - loss: 12.8279 - val_loss: 13.1010\n",
            "Epoch 9/100\n",
            "3/3 [==============================] - 0s 23ms/step - loss: 11.8218 - val_loss: 11.9013\n",
            "Epoch 10/100\n",
            "3/3 [==============================] - 0s 20ms/step - loss: 10.7594 - val_loss: 10.6018\n",
            "Epoch 11/100\n",
            "3/3 [==============================] - 0s 19ms/step - loss: 9.5067 - val_loss: 9.3217\n",
            "Epoch 12/100\n",
            "3/3 [==============================] - 0s 19ms/step - loss: 8.2894 - val_loss: 7.9791\n",
            "Epoch 13/100\n",
            "3/3 [==============================] - 0s 21ms/step - loss: 6.9768 - val_loss: 6.6079\n",
            "Epoch 14/100\n",
            "3/3 [==============================] - 0s 19ms/step - loss: 5.8469 - val_loss: 5.2898\n",
            "Epoch 15/100\n",
            "3/3 [==============================] - 0s 20ms/step - loss: 4.7585 - val_loss: 4.2266\n",
            "Epoch 16/100\n",
            "3/3 [==============================] - 0s 20ms/step - loss: 3.9923 - val_loss: 3.4672\n",
            "Epoch 17/100\n",
            "3/3 [==============================] - 0s 19ms/step - loss: 3.4482 - val_loss: 2.9285\n",
            "Epoch 18/100\n",
            "3/3 [==============================] - 0s 18ms/step - loss: 3.0928 - val_loss: 2.6190\n",
            "Epoch 19/100\n",
            "3/3 [==============================] - 0s 18ms/step - loss: 2.9108 - val_loss: 2.4163\n",
            "Epoch 20/100\n",
            "3/3 [==============================] - 0s 20ms/step - loss: 2.8053 - val_loss: 2.3552\n",
            "Epoch 21/100\n",
            "3/3 [==============================] - 0s 17ms/step - loss: 2.7808 - val_loss: 2.3842\n",
            "Epoch 22/100\n",
            "3/3 [==============================] - 0s 18ms/step - loss: 2.7241 - val_loss: 2.4234\n",
            "Epoch 23/100\n",
            "3/3 [==============================] - 0s 17ms/step - loss: 2.7133 - val_loss: 2.4803\n",
            "Epoch 24/100\n",
            "3/3 [==============================] - 0s 20ms/step - loss: 2.7142 - val_loss: 2.5034\n",
            "Epoch 25/100\n",
            "3/3 [==============================] - 0s 21ms/step - loss: 2.6725 - val_loss: 2.4570\n"
          ]
        },
        {
          "output_type": "stream",
          "name": "stderr",
          "text": [
            "WARNING:tensorflow:5 out of the last 7 calls to <function Model.make_predict_function.<locals>.predict_function at 0x7fad6bfd9ab0> triggered tf.function retracing. Tracing is expensive and the excessive number of tracings could be due to (1) creating @tf.function repeatedly in a loop, (2) passing tensors with different shapes, (3) passing Python objects instead of tensors. For (1), please define your @tf.function outside of the loop. For (2), @tf.function has reduce_retracing=True option that can avoid unnecessary retracing. For (3), please refer to https://www.tensorflow.org/guide/function#controlling_retracing and https://www.tensorflow.org/api_docs/python/tf/function for  more details.\n"
          ]
        },
        {
          "output_type": "stream",
          "name": "stdout",
          "text": [
            "1/1 [==============================] - 0s 85ms/step\n",
            "              precision    recall  f1-score   support\n",
            "\n",
            "         1.0       0.00      0.00      0.00         1\n",
            "         2.0       0.00      0.00      0.00         1\n",
            "         3.0       0.60      0.38      0.46         8\n",
            "         4.0       0.20      0.60      0.30         5\n",
            "         5.0       0.00      0.00      0.00         3\n",
            "         7.0       0.00      0.00      0.00         3\n",
            "\n",
            "    accuracy                           0.29        21\n",
            "   macro avg       0.13      0.16      0.13        21\n",
            "weighted avg       0.28      0.29      0.25        21\n",
            "\n",
            "[[0 0 0 1 0 0]\n",
            " [0 0 0 1 0 0]\n",
            " [0 1 3 4 0 0]\n",
            " [0 0 2 3 0 0]\n",
            " [0 0 0 3 0 0]\n",
            " [0 0 0 3 0 0]]\n"
          ]
        },
        {
          "output_type": "stream",
          "name": "stderr",
          "text": [
            "/usr/local/lib/python3.10/dist-packages/sklearn/metrics/_classification.py:1344: UndefinedMetricWarning: Precision and F-score are ill-defined and being set to 0.0 in labels with no predicted samples. Use `zero_division` parameter to control this behavior.\n",
            "  _warn_prf(average, modifier, msg_start, len(result))\n",
            "/usr/local/lib/python3.10/dist-packages/sklearn/metrics/_classification.py:1344: UndefinedMetricWarning: Precision and F-score are ill-defined and being set to 0.0 in labels with no predicted samples. Use `zero_division` parameter to control this behavior.\n",
            "  _warn_prf(average, modifier, msg_start, len(result))\n",
            "/usr/local/lib/python3.10/dist-packages/sklearn/metrics/_classification.py:1344: UndefinedMetricWarning: Precision and F-score are ill-defined and being set to 0.0 in labels with no predicted samples. Use `zero_division` parameter to control this behavior.\n",
            "  _warn_prf(average, modifier, msg_start, len(result))\n"
          ]
        },
        {
          "output_type": "execute_result",
          "data": {
            "text/plain": [
              "<matplotlib.collections.PathCollection at 0x7fad6bdc5d50>"
            ]
          },
          "metadata": {},
          "execution_count": 70
        },
        {
          "output_type": "display_data",
          "data": {
            "text/plain": [
              "<Figure size 640x480 with 1 Axes>"
            ],
            "image/png": "[encoded data removed]"
          },
          "metadata": {}
        }
      ]
    },
    {
      "cell_type": "code",
      "source": [
        "plt.plot(results_4.history['loss'], label='train')\n",
        "plt.plot(results_4.history['val_loss'], label='test')\n",
        "plt.legend()"
      ],
      "metadata": {
        "colab": {
          "base_uri": "https://localhost:8080/",
          "height": 447
        },
        "id": "nwzKR98obHNc",
        "outputId": "5f963437-1933-4ace-adee-670b80e98aa6"
      },
      "execution_count": 71,
      "outputs": [
        {
          "output_type": "execute_result",
          "data": {
            "text/plain": [
              "<matplotlib.legend.Legend at 0x7fad6be233a0>"
            ]
          },
          "metadata": {},
          "execution_count": 71
        },
        {
          "output_type": "display_data",
          "data": {
            "text/plain": [
              "<Figure size 640x480 with 1 Axes>"
            ],
            "image/png": "[encoded data removed]"
          },
          "metadata": {}
        }
      ]
    },
    {
      "cell_type": "code",
      "source": [
        "print(yhat_test_reshaped_4)\n",
        "print(y_test)"
      ],
      "metadata": {
        "colab": {
          "base_uri": "https://localhost:8080/"
        },
        "id": "IgwM-FDDbJTE",
        "outputId": "92b1e3ee-fcb1-4b75-da0c-c97ce62b6d54"
      },
      "execution_count": 72,
      "outputs": [
        {
          "output_type": "stream",
          "name": "stdout",
          "text": [
            "[4. 4. 4. 3. 4. 3. 3. 4. 3. 4. 4. 4. 3. 4. 4. 4. 4. 2. 4. 4. 4.]\n",
            "[4. 5. 1. 4. 5. 3. 3. 7. 4. 2. 3. 3. 3. 7. 3. 7. 4. 3. 5. 3. 4.]\n"
          ]
        }
      ]
    }
  ]
}